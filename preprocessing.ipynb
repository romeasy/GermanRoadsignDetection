{
 "cells": [
  {
   "cell_type": "markdown",
   "metadata": {},
   "source": [
    "# Training a cNN to detect roadsigns\n",
    "In order to process roadsigns in the autonomous car of the Freie Universität, we want to train a convolutional (deep) neural network.\n",
    "\n",
    "This network is supposed to distinguish between different classes of signs (stop, attention, train crossing etc) and the final model will then be integrated to the autonomos ROS structure.\n",
    "\n",
    "This notebook shall download the dataset, read it in and then train the classifier. Afterwards, a validation of the training procedure will be done."
   ]
  },
  {
   "cell_type": "code",
   "execution_count": 26,
   "metadata": {
    "collapsed": true
   },
   "outputs": [],
   "source": [
    "import tensorflow as tf\n",
    "import numpy as np\n",
    "import matplotlib.pyplot as plt\n",
    "import matplotlib.image as mpimg\n",
    "from PIL import Image\n",
    "import urllib2, cStringIO, zipfile\n",
    "import csv\n",
    "import os\n",
    "import random"
   ]
  },
  {
   "cell_type": "markdown",
   "metadata": {},
   "source": [
    "## Set global parameters such as image size or channels\n",
    "\n",
    "**Options include:**\n",
    "* Size of the images\n",
    "* Which color channels are used (RGB or YUV)\n",
    "* How many new images are artificially added"
   ]
  },
  {
   "cell_type": "code",
   "execution_count": 8,
   "metadata": {
    "collapsed": true
   },
   "outputs": [],
   "source": [
    "img_size = (32, 32)"
   ]
  },
  {
   "cell_type": "markdown",
   "metadata": {},
   "source": [
    "## Download the dataset"
   ]
  },
  {
   "cell_type": "code",
   "execution_count": 9,
   "metadata": {
    "collapsed": true
   },
   "outputs": [],
   "source": [
    "url = 'http://benchmark.ini.rub.de/Dataset/GTSRB_Final_Training_Images.zip'\n",
    "\n",
    "if not os.path.exists('GTSRB/Final_Training/Images'):\n",
    "    try:\n",
    "        remotezip = urllib2.urlopen(url)\n",
    "        zipinmemory = cStringIO.StringIO(remotezip.read())\n",
    "        zip = zipfile.ZipFile(zipinmemory)\n",
    "        zip.extractall('.')\n",
    "    except urllib2.HTTPError:\n",
    "        pass"
   ]
  },
  {
   "cell_type": "markdown",
   "metadata": {},
   "source": [
    "## Read the data in and scale it to a fixed resolution"
   ]
  },
  {
   "cell_type": "code",
   "execution_count": 17,
   "metadata": {
    "collapsed": true
   },
   "outputs": [],
   "source": [
    "def getSingleImage(path):\n",
    "    img = Image.open(path) # the 1th column is the filename\n",
    "    img_resized = img.resize((img_size[0], img_size[1]), Image.LINEAR)\n",
    "    img_resized = img_resized.convert('YCbCr')\n",
    "    Y_channel = img_resized.split()[0]\n",
    "    del img, img_resized\n",
    "    return np.array(Y_channel.getdata(), dtype=np.float32).reshape(img_size[0], img_size[1], 1)\n",
    "\n",
    "def readTrafficSigns(rootpath):\n",
    "    '''Reads traffic sign data for German Traffic Sign Recognition Benchmark.\n",
    "\n",
    "    Arguments: path to the traffic sign data, for example './GTSRB/Training'\n",
    "    Returns:   list of images, list of corresponding labels'''\n",
    "\n",
    "    training_images = [] # images\n",
    "    training_labels = [] # corresponding labels\n",
    "    testing_images = []\n",
    "    testing_labels = []\n",
    "    \n",
    "    test_class = random.randrange(0, 42)\n",
    "    print \"Using class \" + str(test_class) + \" as test set!\"\n",
    "\n",
    "    # loop over all 43 classes\n",
    "    for c in range(0,43):\n",
    "        prefix = rootpath + '/' + format(c, '05d') + '/' # subdirectory for class\n",
    "        gtFile = open(prefix + 'GT-'+ format(c, '05d') + '.csv') # annotations file\n",
    "        gtReader = csv.reader(gtFile, delimiter=';') # csv parser for annotations file\n",
    "        gtReader.next() # skip header\n",
    "\n",
    "        # loop over all images in current annotations file\n",
    "        for row in gtReader:\n",
    "            np_img = getSingleImage(prefix + row[0]) # the 1th column is the filename\n",
    "            if test_class == c:\n",
    "                testing_images.append(np_img)\n",
    "                testing_labels.append(row[7]) # the 8th column is the label\n",
    "            else:\n",
    "                training_images.append(np_img)\n",
    "                training_labels.append(row[7]) \n",
    "        gtFile.close()\n",
    "        print \"Loaded images from class \" + str(c)\n",
    "    return (training_images, training_labels, testing_images, testing_labels)"
   ]
  },
  {
   "cell_type": "code",
   "execution_count": 18,
   "metadata": {
    "collapsed": false,
    "scrolled": false
   },
   "outputs": [
    {
     "name": "stdout",
     "output_type": "stream",
     "text": [
      "Using class 24 as test set!\n",
      "Loaded images from class 0\n",
      "Loaded images from class 1\n",
      "Loaded images from class 2\n",
      "Loaded images from class 3\n",
      "Loaded images from class 4\n",
      "Loaded images from class 5\n",
      "Loaded images from class 6\n",
      "Loaded images from class 7\n",
      "Loaded images from class 8\n",
      "Loaded images from class 9\n",
      "Loaded images from class 10\n",
      "Loaded images from class 11\n",
      "Loaded images from class 12\n",
      "Loaded images from class 13\n",
      "Loaded images from class 14\n",
      "Loaded images from class 15\n",
      "Loaded images from class 16\n",
      "Loaded images from class 17\n",
      "Loaded images from class 18\n",
      "Loaded images from class 19\n",
      "Loaded images from class 20\n",
      "Loaded images from class 21\n",
      "Loaded images from class 22\n",
      "Loaded images from class 23\n",
      "Loaded images from class 24\n",
      "Loaded images from class 25\n",
      "Loaded images from class 26\n",
      "Loaded images from class 27\n",
      "Loaded images from class 28\n",
      "Loaded images from class 29\n",
      "Loaded images from class 30\n",
      "Loaded images from class 31\n",
      "Loaded images from class 32\n",
      "Loaded images from class 33\n",
      "Loaded images from class 34\n",
      "Loaded images from class 35\n",
      "Loaded images from class 36\n",
      "Loaded images from class 37\n",
      "Loaded images from class 38\n",
      "Loaded images from class 39\n",
      "Loaded images from class 40\n",
      "Loaded images from class 41\n",
      "Loaded images from class 42\n"
     ]
    }
   ],
   "source": [
    "trainImg, trainLabels, testImg, testLabels = readTrafficSigns('GTSRB/Final_Training/Images')"
   ]
  },
  {
   "cell_type": "code",
   "execution_count": 19,
   "metadata": {
    "collapsed": false
   },
   "outputs": [
    {
     "name": "stdout",
     "output_type": "stream",
     "text": [
      "Number of training images: 38939\n",
      "Number of training labels: 38939\n",
      "Number of testing images: 270\n",
      "Number of testing labels: 270\n"
     ]
    }
   ],
   "source": [
    "print \"Number of training images: \" + str(len(trainImg))\n",
    "print \"Number of training labels: \" + str(len(trainLabels))\n",
    "print \"Number of testing images: \" + str(len(testImg))\n",
    "print \"Number of testing labels: \" + str(len(testLabels))"
   ]
  },
  {
   "cell_type": "markdown",
   "metadata": {},
   "source": [
    "## Permute the training data randomly and make it a big matrix"
   ]
  },
  {
   "cell_type": "code",
   "execution_count": 22,
   "metadata": {
    "collapsed": true
   },
   "outputs": [],
   "source": [
    "permutation = np.random.permutation(len(trainImg))\n",
    "train_set = np.array([trainImg[idx] for idx in permutation], dtype=np.float32)\n",
    "train_labels = [trainLabels[idx] for idx in permutation]\n",
    "test_set = np.array(testImg, dtype=np.float32)\n",
    "test_labels = testLabels"
   ]
  },
  {
   "cell_type": "markdown",
   "metadata": {},
   "source": [
    "## Transform labels to one-hot-vectors and make it a matrix"
   ]
  },
  {
   "cell_type": "code",
   "execution_count": 23,
   "metadata": {
    "collapsed": false
   },
   "outputs": [],
   "source": [
    "train_labels_oh = []\n",
    "number_of_classes = 43\n",
    "for label in train_labels:\n",
    "    new_label = np.zeros(number_of_classes)\n",
    "    new_label[int(label)] = 1\n",
    "    train_labels_oh.append(new_label)\n",
    "train_labels = np.array(train_labels_oh, dtype=np.float32)\n",
    "\n",
    "test_labels_oh = []\n",
    "for label in test_labels:\n",
    "    new_label = np.zeros(number_of_classes)\n",
    "    new_label[int(label)] = 1\n",
    "    test_labels_oh.append(new_label)\n",
    "test_labels = np.array(test_labels_oh, dtype=np.float32)"
   ]
  },
  {
   "cell_type": "markdown",
   "metadata": {},
   "source": [
    "## Show some of the images"
   ]
  },
  {
   "cell_type": "code",
   "execution_count": null,
   "metadata": {
    "collapsed": false
   },
   "outputs": [],
   "source": [
    "%matplotlib inline\n",
    "random_images = [random.randrange(train_set.shape[0]) for i in xrange(10)]\n",
    "print random_images\n",
    "fig = plt.figure()\n",
    "for i in xrange(10):\n",
    "    fig.add_subplot(2, 5, i+1)\n",
    "    plt.imshow(train_set[random_images[i]])\n",
    "plt.show()"
   ]
  },
  {
   "cell_type": "markdown",
   "metadata": {},
   "source": [
    "## Pickle the images to a file that can easily be loaded"
   ]
  },
  {
   "cell_type": "code",
   "execution_count": null,
   "metadata": {
    "collapsed": true
   },
   "outputs": [],
   "source": []
  }
 ],
 "metadata": {
  "kernelspec": {
   "display_name": "Python 2",
   "language": "python",
   "name": "python2"
  },
  "language_info": {
   "codemirror_mode": {
    "name": "ipython",
    "version": 2
   },
   "file_extension": ".py",
   "mimetype": "text/x-python",
   "name": "python",
   "nbconvert_exporter": "python",
   "pygments_lexer": "ipython2",
   "version": "2.7.11"
  }
 },
 "nbformat": 4,
 "nbformat_minor": 0
}
